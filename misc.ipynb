{
 "cells": [
  {
   "cell_type": "code",
   "execution_count": 1,
   "metadata": {},
   "outputs": [],
   "source": [
    "import pandas as pd\n",
    "import random\n",
    "\n",
    "# List of country names (you can expand this list as needed)\n",
    "countries = ['USA', 'India', 'China', 'Germany', 'Brazil', 'France', 'Canada', 'Australia', 'Japan', 'UK', 'Mexico', 'Russia', 'Italy']\n",
    "\n",
    "# Load your CSV\n",
    "df = pd.read_csv('filtered_medrxiv_papers.csv')\n",
    "\n",
    "# Add a new column 'country' with random country names\n",
    "df['country'] = [random.choice(countries) for _ in range(len(df))]\n",
    "\n",
    "# Save the updated CSV\n",
    "df.to_csv('Dummydata.csv', index=False)\n"
   ]
  },
  {
   "cell_type": "code",
   "execution_count": 4,
   "metadata": {},
   "outputs": [],
   "source": [
    "import sqlite3\n",
    "import pandas as pd\n",
    "\n",
    "# Load your updated CSV\n",
    "df = pd.read_csv('Dummydata.csv')\n",
    "\n",
    "# Connect to SQLite database (it will create a new one if it doesn't exist)\n",
    "conn = sqlite3.connect('Dummy_Medarxiv.db')\n",
    "\n",
    "# Write the data into a table named 'entries'\n",
    "df.to_sql('entries', conn, if_exists='replace', index=False)\n",
    "\n",
    "# Close the connection\n",
    "conn.close()\n"
   ]
  }
 ],
 "metadata": {
  "kernelspec": {
   "display_name": "preprint",
   "language": "python",
   "name": "python3"
  },
  "language_info": {
   "codemirror_mode": {
    "name": "ipython",
    "version": 3
   },
   "file_extension": ".py",
   "mimetype": "text/x-python",
   "name": "python",
   "nbconvert_exporter": "python",
   "pygments_lexer": "ipython3",
   "version": "3.10.15"
  }
 },
 "nbformat": 4,
 "nbformat_minor": 2
}
